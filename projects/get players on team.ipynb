{
 "cells": [
  {
   "cell_type": "code",
   "execution_count": 2,
   "id": "9a204a3d-3b85-4a4a-9af3-6cfbefaa00d1",
   "metadata": {},
   "outputs": [],
   "source": [
    "import warnings\n",
    "warnings.simplefilter(\"ignore\")\n",
    "import pandas as pd\n",
    "import numpy as np\n",
    "import pyodbc\n",
    "from datetime import datetime\n"
   ]
  },
  {
   "cell_type": "code",
   "execution_count": 3,
   "id": "c44c5f86-fda8-4407-921d-2bfbedc5764e",
   "metadata": {},
   "outputs": [],
   "source": [
    "server = 'localhost\\SQLEXPRESS'\n",
    "database = 'nba_game_data'"
   ]
  },
  {
   "cell_type": "code",
   "execution_count": null,
   "id": "9b6efc94-6857-4346-9ab6-3e0c7201dc95",
   "metadata": {},
   "outputs": [],
   "source": [
    "# ATL, BKN, BOS, CHA, CHI, CLE, DAL, DEN, DET, GSW, HOU, IND, LAC, LAL, MEM\n",
    "# MIA, MIL, MIN, NOP, NYK, OKC, ORL, PHI, PHX, POR, SAC, SAS, TOR, UTA, WAS"
   ]
  },
  {
   "cell_type": "code",
   "execution_count": 1,
   "id": "817f2ebf-ddb6-40f0-905e-1abc9407bbf5",
   "metadata": {},
   "outputs": [],
   "source": [
    "teams_playing = ['OKC','DAL','DET','LAC','SAS','BKN','CHI','ORL','CHA','MEM','ORL','LAL']"
   ]
  },
  {
   "cell_type": "code",
   "execution_count": 4,
   "id": "914083a0-70a6-4452-9ce8-e9a77e668079",
   "metadata": {},
   "outputs": [],
   "source": [
    "# Current date\n",
    "current_date = datetime.now()\n",
    "\n",
    "# Check if the current date is after August 1st\n",
    "if current_date.month > 8 or (current_date.month == 8 and current_date.day > 1):\n",
    "    # If after August 1st, give the current year plus 2\n",
    "    year = current_date.year + 2\n",
    "else:\n",
    "    # If on or before August 1st, give the current year plus 1\n",
    "    year = current_date.year + 1\n",
    "\n"
   ]
  },
  {
   "cell_type": "code",
   "execution_count": 6,
   "id": "d926b2c5-ff25-44f9-a627-015cef1cbdb0",
   "metadata": {},
   "outputs": [],
   "source": [
    "teams = ''\n",
    "last = len(teams_playing)\n",
    "traker = 1\n",
    "for i in teams_playing:\n",
    "    if traker == last:\n",
    "        teams += \"'\"+i+\"'\"\n",
    "    else:\n",
    "        teams += \"'\"+i+\"',\"\n",
    "    traker+=1"
   ]
  },
  {
   "cell_type": "code",
   "execution_count": 7,
   "id": "846524aa-ef38-42e0-accb-4b6e7d2d4c88",
   "metadata": {},
   "outputs": [],
   "source": [
    "cnxn = pyodbc.connect('DRIVER={SQL Server};SERVER='+server+';DATABASE='+database+';')\n",
    "cursor = cnxn.cursor()\n",
    "sql = f'''\n",
    "with abrv as (\n",
    "SELECT\tdistinct TEAM_ID,TEAM_ABBREVIATION\n",
    "      \n",
    "  FROM [nba_game_data].[dbo].[PlayerGameLogs])\n",
    "\n",
    "SELECT distinct  PLAYER as PLAYER_NAME ,\n",
    "PLAYER_ID,\n",
    "abrv.TEAM_ABBREVIATION\n",
    "  FROM [nba_game_data].[dbo].[CommonTeamRoster]ctr\n",
    "  left outer join abrv\n",
    "  on \n",
    "  ctr.TeamID = abrv.TEAM_ID\n",
    "  where SEASON = {year}  \n",
    "  and abrv.TEAM_ABBREVIATION in ({teams})\n",
    "  order by abrv.TEAM_ABBREVIATION\n",
    "'''\n",
    "player_list = pd.read_sql(sql,cnxn)"
   ]
  },
  {
   "cell_type": "code",
   "execution_count": 39,
   "id": "d913b3a8-65c5-443b-8093-b87328fc803a",
   "metadata": {},
   "outputs": [],
   "source": [
    "# player_list = player_list.drop(columns = ['TEAM_ABBREVIATION'])"
   ]
  },
  {
   "cell_type": "code",
   "execution_count": 8,
   "id": "099942bb-4258-4b88-a045-4ca6496e5760",
   "metadata": {},
   "outputs": [],
   "source": [
    "player_list['OPP'] = ''\n",
    "player_list['PTS'] = ''\n",
    "player_list['REB'] = ''\n",
    "player_list['AST'] = ''\n",
    "player_list['STL'] = ''\n",
    "player_list['TOV'] = ''\n",
    "player_list['BLK'] = ''\n",
    "player_list['FG3M'] = ''\n",
    "player_list['DD2'] = ''\n",
    "player_list['REB_Boost'] = ''\n",
    "player_list['AST_Boost'] = ''\n",
    "player_list['STL_Boost'] = ''\n",
    "player_list['TOV_Boost'] = ''\n",
    "player_list['BLK_Boost'] = ''\n",
    "player_list['FG3M_Boost'] = ''\n",
    "player_list['DD2_Boost'] = ''"
   ]
  },
  {
   "cell_type": "code",
   "execution_count": 9,
   "id": "2bb802e0-7db7-4bd9-bfda-157889eb007a",
   "metadata": {},
   "outputs": [],
   "source": [
    "player_list.to_csv('todays_players.csv')"
   ]
  },
  {
   "cell_type": "code",
   "execution_count": 58,
   "id": "3c51024b-9a23-466e-b069-41802b3e74d4",
   "metadata": {},
   "outputs": [],
   "source": [
    "# import torch\n",
    "\n",
    "# # Check if CUDA (GPU support) is available and set the device accordingly\n",
    "# device = torch.device(\"cuda\" if torch.cuda.is_available() else \"cpu\")\n"
   ]
  },
  {
   "cell_type": "code",
   "execution_count": 1,
   "id": "0e672a30-4995-4524-a5df-132563e34fb8",
   "metadata": {},
   "outputs": [
    {
     "name": "stdout",
     "output_type": "stream",
     "text": [
      "2.2.0+cu121\n",
      "True\n",
      "12.1\n"
     ]
    }
   ],
   "source": [
    "# import torch\n",
    "# import torch\n",
    "# print(torch.__version__)\n",
    "# print(torch.cuda.is_available())  # Should return True if the GPU is recognized\n",
    "# print(torch.version.cuda)  # Should show the CUDA version PyTorch was built with\n",
    "\n"
   ]
  }
 ],
 "metadata": {
  "kernelspec": {
   "display_name": "Python 3 (ipykernel)",
   "language": "python",
   "name": "python3"
  },
  "language_info": {
   "codemirror_mode": {
    "name": "ipython",
    "version": 3
   },
   "file_extension": ".py",
   "mimetype": "text/x-python",
   "name": "python",
   "nbconvert_exporter": "python",
   "pygments_lexer": "ipython3",
   "version": "3.9.13"
  }
 },
 "nbformat": 4,
 "nbformat_minor": 5
}
